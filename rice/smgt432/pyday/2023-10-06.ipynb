{
  "nbformat": 4,
  "nbformat_minor": 0,
  "metadata": {
    "colab": {
      "provenance": []
    },
    "kernelspec": {
      "name": "python3",
      "display_name": "Python 3"
    },
    "language_info": {
      "name": "python"
    }
  },
  "cells": [
    {
      "cell_type": "code",
      "execution_count": null,
      "metadata": {
        "id": "NbnfaFjjjOCV"
      },
      "outputs": [],
      "source": [
        "!pip install statsbombpy"
      ]
    },
    {
      "cell_type": "code",
      "source": [
        "# Download the data ----\n",
        "\n",
        "from statsbombpy import sb\n",
        "\n",
        "# Download event data from the match that clinched the Premier League title for Leicester City.\n",
        "# It was a 2-2 draw between Tottenham and Chelsea that eliminated Tottenham from catching up.\n",
        "events = sb.events(match_id=3754092)"
      ],
      "metadata": {
        "id": "Hj3BJtBMiTAP"
      },
      "execution_count": null,
      "outputs": []
    },
    {
      "cell_type": "code",
      "source": [
        "# Start by classifying the start state and end state of each event ----\n",
        "\n",
        "import numpy as np\n",
        "import pandas as pd\n",
        "\n",
        "data = (\n",
        "    events\n",
        "        .sort_values('index')\n",
        "        .assign(\n",
        "            # Extract x and y locations as numerics\n",
        "            # It's a little bit tricky because some of the entries are NaN, not list\n",
        "            loc_x=lambda x: x['location'].apply(lambda y: y[0] if isinstance(y, list) else np.nan),\n",
        "            loc_y=lambda x: x['location'].apply(lambda y: y[1] if isinstance(y, list) else np.nan),\n",
        "            # Unlike Rudd's work, let's split the field into 30 zones (6 for x, 5 for y)\n",
        "            zone_x=lambda x: np.select(\n",
        "                condlist=[x['loc_x'] < 20, x['loc_x'] < 40, x['loc_x'] < 60, x['loc_x'] < 80, x['loc_x'] < 100, x['loc_x'] < 120],\n",
        "                choicelist=['0', '1', '2', '3', '4', '5'],\n",
        "                default=None\n",
        "            ),\n",
        "            zone_y=lambda x: np.select(\n",
        "                condlist=[x['loc_y'] < 16, x['loc_y'] < 32, x['loc_y'] < 48, x['loc_y'] < 64, x['loc_y'] < 80],\n",
        "                choicelist=['0', '1', '2', '3', '4'],\n",
        "                default=None\n",
        "            ),\n",
        "            zone=lambda x: x['zone_x'] + x['zone_y']\n",
        "        )\n",
        "        # According to Rudd's Markov model, we only consider these three event types\n",
        "        .loc[lambda x: x['type'].isin(['Pass', 'Carry', 'Shot'])]\n",
        "        .assign(\n",
        "            # The starting state is the zone on the field where the event started, unless it's\n",
        "            # one of the special game states (Free Kick, Corner, Throw-in). We skip Penalty because\n",
        "            # there were no penalties in this game, and for simplicity we do not distinguish\n",
        "            # between short and long like Rudd did.\n",
        "            start_state=lambda x: np.select(\n",
        "                condlist=[x['pass_type'] == 'Free Kick', x['pass_type'] == 'Corner', x['pass_type'] == 'Throw-in'],\n",
        "                choicelist=['Free Kick', 'Corner', 'Throw-in'],\n",
        "                default=x['zone']\n",
        "            ),\n",
        "            # We define the ending state to be the starting state of the next event. We make\n",
        "            # exceptions for terminal states, which happen on a goal or a change of possession.\n",
        "            end_state=lambda x: np.select(\n",
        "                condlist=[x['shot_outcome'] == 'Goal', ~(x['possession_team_id'] == x['possession_team_id'].shift(-1))],\n",
        "                choicelist=['Goal', 'End'],\n",
        "                default=x['start_state'].shift(-1)\n",
        "            )\n",
        "        )\n",
        ")\n"
      ],
      "metadata": {
        "id": "cJk9FnmWjhQ_"
      },
      "execution_count": null,
      "outputs": []
    },
    {
      "cell_type": "code",
      "source": [
        "# Count the number of transitions observed between each start state and each end state ----\n",
        "\n",
        "transition_counts_raw = data.value_counts(['start_state', 'end_state'])\n",
        "# Supplement our counts with fake transitions from each terminal state to itself.\n",
        "# This way the terminal states are represented among the start states, which is\n",
        "# necessary for the matrix computation below.\n",
        "transition_counts_raw.loc['End', 'End'] = 1\n",
        "transition_counts_raw.loc['Goal', 'Goal'] = 1\n",
        "\n",
        "# Pivot the dataframe of transition counts into a matrix structure\n",
        "# (one row for each start state, one column for each end state).\n",
        "transition_counts = (\n",
        "    transition_counts_raw\n",
        "        .reset_index()\n",
        "        .pivot_table(index='start_state', columns='end_state', values=0)\n",
        "        .fillna(0)  # NaNs happen when the start state / end state pair is never observed (i.e. 0)\n",
        ")"
      ],
      "metadata": {
        "id": "5PtECFJgm2ag"
      },
      "execution_count": null,
      "outputs": []
    },
    {
      "cell_type": "code",
      "source": [
        "# Divide each row by its sum to convert counts into probabilities ----\n",
        "\n",
        "transition_probs = (\n",
        "    transition_counts.div(transition_counts.sum(axis=1), axis=0)\n",
        ")"
      ],
      "metadata": {
        "id": "ebkXN25MxfBJ"
      },
      "execution_count": null,
      "outputs": []
    },
    {
      "cell_type": "code",
      "source": [
        "# Calculate the probability of ending up in each terminal state from each start state ----\n",
        "\n",
        "# Set up an object to hold the result of the multiplication\n",
        "terminal_transition_probs = transition_probs\n",
        "\n",
        "# Multiply the matrix by itself 100 times\n",
        "# (Rudd did 20, but we require more, probably because we allow transitions from a state to itself)\n",
        "for i in range(100):\n",
        "    terminal_transition_probs = terminal_transition_probs.dot(transition_probs)\n",
        "\n",
        "# Extract the probability of goal being the terminal state from each start state\n",
        "goal_prob = (\n",
        "    terminal_transition_probs\n",
        "    .reset_index()\n",
        "    [['start_state', 'Goal']]\n",
        ")"
      ],
      "metadata": {
        "id": "uPKxA3Xj0yDM"
      },
      "execution_count": null,
      "outputs": []
    },
    {
      "cell_type": "code",
      "source": [
        "# Produce player values ----\n",
        "\n",
        "(\n",
        "    data\n",
        "        # Get the goal prob for the state before each action\n",
        "        .merge(goal_prob, on='start_state', how='left')\n",
        "        .rename(columns={'Goal': 'goal_prob_before'})\n",
        "        # Get the goal prob for the state after each action\n",
        "        .merge(goal_prob, left_on='end_state', right_on='start_state', how='left')\n",
        "        .rename(columns={'Goal': 'goal_prob_after'})\n",
        "        # Calculate the change in goal prob for each action\n",
        "        .assign(goal_prob_diff=lambda x: x['goal_prob_after'] - x['goal_prob_before'])\n",
        "        # Sum up the changes in goal prob for each player\n",
        "        .groupby(['player_id', 'player'])\n",
        "        ['goal_prob_diff']\n",
        "        .sum()\n",
        "        .sort_values(ascending=False)\n",
        ")"
      ],
      "metadata": {
        "id": "JbXb7GeQ183V"
      },
      "execution_count": null,
      "outputs": []
    }
  ]
}