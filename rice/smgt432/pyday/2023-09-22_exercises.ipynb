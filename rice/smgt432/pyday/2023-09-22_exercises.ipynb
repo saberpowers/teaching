{
  "nbformat": 4,
  "nbformat_minor": 0,
  "metadata": {
    "colab": {
      "provenance": []
    },
    "kernelspec": {
      "name": "python3",
      "display_name": "Python 3"
    },
    "language_info": {
      "name": "python"
    }
  },
  "cells": [
    {
      "cell_type": "code",
      "source": [
        "# If you don't already have mplsoccer installed, you'll need to run this command (for Exercise 6)\n",
        "!pip install mplsoccer"
      ],
      "metadata": {
        "id": "WFXFOXYBqIca"
      },
      "execution_count": null,
      "outputs": []
    },
    {
      "cell_type": "code",
      "execution_count": 269,
      "metadata": {
        "id": "Xo7d5I5CRvYF"
      },
      "outputs": [],
      "source": [
        "import numpy as np\n",
        "import pandas as pd\n",
        "import ast\n",
        "import math\n",
        "import matplotlib.pyplot as plt\n",
        "\n",
        "shot = pd.read_csv('shot.csv')  # read data from file\n",
        "\n",
        "'''\n",
        "## EXERCISE 1 ##\n",
        "Below, fill in the calculations for distance and angle to goal.\n",
        "'''\n",
        "\n",
        "# Create a new dataframe with additional columns\n",
        "shot_data = (\n",
        "    shot\n",
        "        .assign(\n",
        "            is_goal=lambda x: np.where(x['shot_outcome'] == \"Goal\", 1, 0),\n",
        "            # Use the ast.literal_eval function to convert location strings into lists\n",
        "            # NOTE: This ast.literal_eval function will come in very handy if you\n",
        "            #       choose to work with the freeze frame data in Assignment #2!\n",
        "            loc_x=lambda x: [ast.literal_eval(y)[0] for y in x['location']],\n",
        "            loc_y=lambda x: [ast.literal_eval(y)[1] for y in x['location']],\n",
        "            distance=0,\n",
        "            angle=0,\n",
        "            # Calculate more useful transformations of angle and distance\n",
        "            sqrt_distance=lambda x: np.sqrt(x['distance']),\n",
        "            cos_angle=lambda x: [math.cos(y) for y in x['angle']]\n",
        "        )\n",
        ")\n",
        "\n",
        "# Shuffle the rows and separate training set from test set\n",
        "shot_shuffled = shot_data.sample(frac=1, random_state=42)\n",
        "shot_train = shot_shuffled[:2000]\n",
        "shot_test = shot_shuffled[2000:]"
      ]
    },
    {
      "cell_type": "code",
      "source": [
        "import matplotlib.pyplot as plt\n",
        "\n",
        "# This block of code calculates the average for all numeric columns within each bucket of distance\n",
        "# rounded to the nearest two meters, most importantly the average of is_goal within each bucket.\n",
        "plot_data = (\n",
        "    shot_data\n",
        "        # Create rounded_distance, which is distance rounded to the nearest multiple of 2 meters\n",
        "        .assign(rounded_distance=lambda x: round(x['distance'] / 2) * 2)\n",
        "        .groupby('rounded_distance')\n",
        "        .mean(numeric_only=True)\n",
        ")\n",
        "\n",
        "'''\n",
        "## EXERCISE 2 ##\n",
        "Above, we get the observed rate of goals for each distance, rounded to the nearest two meters.\n",
        "Plot y = observed goal rate versus x = rounded distance below, to visualize the result.\n",
        "Does the relationship look linear? What does it look like?\n",
        "'''\n"
      ],
      "metadata": {
        "id": "ltSJ5iStkiZf"
      },
      "execution_count": null,
      "outputs": []
    },
    {
      "cell_type": "code",
      "source": [
        "import statsmodels.formula.api as smf\n",
        "import statsmodels.api as sm\n",
        "\n",
        "'''\n",
        "## EXERCISE 3 ##\n",
        "Fit a logistic regression model (using training data only) to predict goal probability using only\n",
        "sqrt_distance and cos_angle. What is the average log probability out the outcomes in the test set?\n",
        "Hint: Back when we were fitting Bradley-Terry models, we used\n",
        "smf.glm(..., family=sm.families.Poisson()) to fit a Poisson regression. For logistic regression, try\n",
        "smf.glm(..., family=sm.families.Binomial()).\n",
        "'''\n",
        "\n"
      ],
      "metadata": {
        "id": "Y4T5bSIaV_OH"
      },
      "execution_count": null,
      "outputs": []
    },
    {
      "cell_type": "code",
      "source": [
        "'''\n",
        "## EXERCISE 4 ##\n",
        "Try experimenting with adding other variables from the data to the model to get a better prediction.\n",
        "What's the best average log probability you can get in the test set?\n",
        "'''\n",
        "\n"
      ],
      "metadata": {
        "id": "9DlaGLO5ZZhb"
      },
      "execution_count": null,
      "outputs": []
    },
    {
      "cell_type": "code",
      "source": [
        "'''\n",
        "## EXERCISE 5 ##\n",
        "Your calculate of the average log probability in the test set has some randomness due to noise.\n",
        "What is the standard error of your calculation?\n",
        "'''\n",
        "\n"
      ],
      "metadata": {
        "id": "tXwJ0rRMi5w-"
      },
      "execution_count": null,
      "outputs": []
    },
    {
      "cell_type": "code",
      "source": [
        "import mplsoccer as mpl\n",
        "\n",
        "'''\n",
        "## EXERCISE 6 ##\n",
        "Below we are plotting a blank soccer pitch. Try plotting all of the test-set shots on this field,\n",
        "and color them according to their xG.\n",
        "Hint: Try using pitch.scatter() like Devin Pleuler did in his soccer analytics handbook.\n",
        "'''\n",
        "\n",
        "# Draw the soccer pitch\n",
        "pitch = mpl.Pitch()\n",
        "fig, ax = pitch.draw()\n"
      ],
      "metadata": {
        "id": "tit0shqXoxa5"
      },
      "execution_count": null,
      "outputs": []
    }
  ]
}