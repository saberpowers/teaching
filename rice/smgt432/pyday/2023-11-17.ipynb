{
  "nbformat": 4,
  "nbformat_minor": 0,
  "metadata": {
    "colab": {
      "provenance": []
    },
    "kernelspec": {
      "name": "python3",
      "display_name": "Python 3"
    },
    "language_info": {
      "name": "python"
    }
  },
  "cells": [
    {
      "cell_type": "code",
      "source": [
        "!pip install statsbombpy"
      ],
      "metadata": {
        "id": "miwTeRe_XrBY"
      },
      "execution_count": null,
      "outputs": []
    },
    {
      "cell_type": "code",
      "source": [
        "from statsbombpy import sb\n",
        "import numpy as np\n",
        "import pandas as pd"
      ],
      "metadata": {
        "id": "8KiYDknYe1AW"
      },
      "execution_count": 29,
      "outputs": []
    },
    {
      "cell_type": "code",
      "execution_count": null,
      "metadata": {
        "id": "linCl4gHXCMh"
      },
      "outputs": [],
      "source": [
        "# Download the data ----\n",
        "\n",
        "matches = sb.matches(competition_id=2, season_id=27)\n",
        "\n",
        "events = pd.concat([sb.events(match_id=x) for x in matches['match_id']])"
      ]
    },
    {
      "cell_type": "code",
      "source": [
        "# Calculate summary metrics for each possession (takes a minute)\n",
        "possession_summary = (\n",
        "    events\n",
        "      .sort_values(['match_id', 'index'])\n",
        "      .loc[lambda x: x['type'].isin(['Pass', 'Carry', 'Shot'])]\n",
        "      .assign(\n",
        "          loc_x=lambda x: [y[0] if isinstance(y, list) else np.nan for y in x['location']],\n",
        "          time=lambda x: 60 * x['minute'] + x['second']\n",
        "      )\n",
        "      .groupby(['match_id', 'possession', 'team'])\n",
        "      .agg(\n",
        "          start_x=('loc_x', 'first'),\n",
        "          end_x=('loc_x', 'last'),\n",
        "          start_time=('time', 'first'),\n",
        "          end_time=('time', 'last'),\n",
        "          num_passes=('type', lambda x: (x == 'Pass').sum()),\n",
        "          num_shots=('type', lambda x: (x == 'Shot').sum()),\n",
        "          num_goals=('shot_outcome', lambda x: (x == 'Goal').sum())\n",
        "      )\n",
        "      .assign(\n",
        "          distance = lambda x: x['end_x'] - x['start_x'],\n",
        "          duration = lambda x: x['end_time'] - x['start_time'],\n",
        "          speed = lambda x: x['distance'] / (x['duration'] + 0.01)\n",
        "      )\n",
        "      .reset_index()\n",
        ")"
      ],
      "metadata": {
        "id": "kQCKk5JHYWq7"
      },
      "execution_count": 131,
      "outputs": []
    },
    {
      "cell_type": "code",
      "source": [
        "# Aggregate possession outcomes according to possession length\n",
        "possession_by_num_passes = (\n",
        "    possession_summary\n",
        "      .groupby('num_passes')\n",
        "      .agg(\n",
        "          count=('num_passes', 'size'),\n",
        "          prob_shot=('num_shots', lambda x: (x > 0).mean()),\n",
        "          prob_goal=('num_goals', lambda x: (x > 0).mean())\n",
        "      )\n",
        "      .reset_index()\n",
        "      .loc[lambda x: x['num_passes'] > 0]\n",
        ")"
      ],
      "metadata": {
        "id": "D60K1yGU8jZY"
      },
      "execution_count": 124,
      "outputs": []
    },
    {
      "cell_type": "code",
      "source": [
        "# Plot goal probability versus possession length ----\n",
        "\n",
        "import matplotlib.pyplot as plt\n",
        "\n",
        "plt_data = possession_by_num_passes[lambda x: x['num_passes'] < 20]\n",
        "plt.scatter(x=plt_data['num_passes'], y=plt_data['prob_goal'])\n",
        "plt.show()\n",
        "\n",
        "# EXERCISE #1: What does this figure look like if you filter out all\n",
        "#   possessions starting in the opponent's half of the field?"
      ],
      "metadata": {
        "id": "LM_xQvOXcjL4"
      },
      "execution_count": null,
      "outputs": []
    },
    {
      "cell_type": "code",
      "source": [
        "# EXERCISE #2: To visualize team styles, create a plot of average possession\n",
        "#   \"speed\" (as defined above) against average number of passes per possession.\n",
        "#   Only include possessions that last longer than 5 seconds.\n",
        "#   Does Leicester City stand out?"
      ],
      "metadata": {
        "id": "FHxbHKLzkorS"
      },
      "execution_count": null,
      "outputs": []
    },
    {
      "cell_type": "code",
      "source": [
        "# Investigate pressing ----\n",
        "\n",
        "# A tactic we discussed both Pep Guardiola and Jurgen Klopp emphasizing is\n",
        "# trying to win back the ball quickly after losing possession in open play.\n",
        "\n",
        "# In this block of code, we identify turnovers that happen in play (as opposed\n",
        "# to turnovers that lead to set pieces), and we calculate the time until the\n",
        "# next turnover happens (the next turnover may not necessarily happen in play).\n",
        "turnover_data = (\n",
        "    events\n",
        "      .assign(time=lambda x: 60 * x['minute'] + x['second'])\n",
        "      .loc[lambda x: x['type'].isin(['Pass', 'Carry', 'Shot'])]\n",
        "      .assign(\n",
        "          is_turnover_in_play=lambda x:\n",
        "            (x['possession_team_id'] != x['possession_team_id'].shift(-1))\n",
        "            & (x['play_pattern'].shift(-1) == 'Regular Play'),  # in play\n",
        "          is_turnover=lambda x:\n",
        "            (x['possession_team_id'] != x['possession_team_id'].shift(-1)),\n",
        "          turnover_time=lambda x: np.where(x['is_turnover'], x['time'] + x['duration'], np.nan),\n",
        "          next_turnover_time=lambda x: x['turnover_time'].fillna(method='bfill').shift(-1),\n",
        "          # Need to guarantee next turnover is in same match and period\n",
        "          turnover_match_id=lambda x: np.where(x['is_turnover'], x['match_id'], np.nan),\n",
        "          next_turnover_match_id=lambda x: x['turnover_match_id'].fillna(method='bfill').shift(-1),\n",
        "          turnover_period=lambda x: np.where(x['is_turnover'], x['period'], np.nan),\n",
        "          next_turnover_period=lambda x: x['turnover_period'].fillna(method='bfill').shift(-1),\n",
        "          # Calculate whether the next turnover happens in under six seconds\n",
        "          under_six_seconds=lambda x:\n",
        "            (x['next_turnover_time'] - x['turnover_time'] < 6)\n",
        "            & (x['match_id'] == x['next_turnover_match_id'])\n",
        "            & (x['period'] == x['next_turnover_period'])\n",
        "      )\n",
        "      .loc[lambda x: x['is_turnover_in_play']]\n",
        "      [['team', 'turnover_time', 'next_turnover_time', 'under_six_seconds']]\n",
        ")\n",
        "\n",
        "print(turnover_data)\n",
        "\n",
        "# EXERCISE #3: Calculate a leaderboard of the frequency with which each team\n",
        "#   recovered possession within 6 seconds of committing a turnover."
      ],
      "metadata": {
        "id": "oKnOjH3hw40p"
      },
      "execution_count": null,
      "outputs": []
    }
  ]
}