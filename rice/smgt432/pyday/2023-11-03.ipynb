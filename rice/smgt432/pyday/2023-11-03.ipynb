{
  "nbformat": 4,
  "nbformat_minor": 0,
  "metadata": {
    "colab": {
      "provenance": []
    },
    "kernelspec": {
      "name": "python3",
      "display_name": "Python 3"
    },
    "language_info": {
      "name": "python"
    }
  },
  "cells": [
    {
      "cell_type": "markdown",
      "source": [
        "Today we're taclking the second half of the Tracking Data section from Devin Pleuler's [Soccer Analytics Handbook](https://github.com/devinpleuler/analytics-handbook/blob/master/soccer_analytics_handbook.ipynb)."
      ],
      "metadata": {
        "id": "Hla6EkmJ_vhf"
      }
    },
    {
      "cell_type": "code",
      "source": [
        "!pip install kloppy\n",
        "!pip install mplsoccer"
      ],
      "metadata": {
        "id": "uP__OXmUWmmK"
      },
      "execution_count": null,
      "outputs": []
    },
    {
      "cell_type": "code",
      "source": [
        "import numpy as np\n",
        "from kloppy import metrica\n",
        "import mplsoccer as mpl"
      ],
      "metadata": {
        "id": "b-nwYGkpWyKZ"
      },
      "execution_count": null,
      "outputs": []
    },
    {
      "cell_type": "code",
      "execution_count": null,
      "metadata": {
        "id": "KRNCdadFVYhv"
      },
      "outputs": [],
      "source": [
        "dataset = metrica.load_open_data(\n",
        "    match_id=1,\n",
        "    coordinates=\"metrica\"\n",
        ") # This takes about 60 seconds"
      ]
    },
    {
      "cell_type": "code",
      "source": [
        "df = dataset.to_pandas()"
      ],
      "metadata": {
        "id": "wNIOPJ0GW2zC"
      },
      "execution_count": null,
      "outputs": []
    },
    {
      "cell_type": "code",
      "source": [
        "df.head(5)"
      ],
      "metadata": {
        "id": "WSZuwgxkXJUW"
      },
      "execution_count": null,
      "outputs": []
    },
    {
      "cell_type": "code",
      "source": [
        "frame_rate = 25\n",
        "length, width = 105, 68\n",
        "adjust = np.array([length, width])\n",
        "\n",
        "metrica_attrs = {\n",
        "    \"pitch_type\": \"metricasports\",\n",
        "    \"pitch_length\": length,\n",
        "    \"pitch_width\": width,\n",
        "    \"line_color\": \"black\",\n",
        "    \"linewidth\": 1,\n",
        "    \"goal_type\": \"circle\"\n",
        "}"
      ],
      "metadata": {
        "id": "TColjVxJXbVz"
      },
      "execution_count": null,
      "outputs": []
    },
    {
      "cell_type": "code",
      "source": [
        "hj = list(set([x.split(\"_\")[1] for x in df.columns if \"home\" in x]))"
      ],
      "metadata": {
        "id": "UE_9DXKJXwCa"
      },
      "execution_count": null,
      "outputs": []
    },
    {
      "cell_type": "code",
      "source": [
        "start, stop = 2143, 2309 # Frame Range\n",
        "\n",
        "pitch = mpl.Pitch(**metrica_attrs)\n",
        "fig, ax = pitch.draw(figsize=(9,6))\n",
        "\n",
        "for j in hj:\n",
        "    path = df[['home_{}_x'.format(j), 'home_{}_y'.format(j)]].values[start:stop]\n",
        "    pitch.plot(*path.T, lw=2, alpha=0.8, ax=ax)\n",
        "\n",
        "path = df[['ball_x', 'ball_y']].values[start:stop]\n",
        "pitch.plot(*path.T, lw=1, alpha=1, color='black', ax=ax)"
      ],
      "metadata": {
        "id": "7IdBftviYMo3"
      },
      "execution_count": null,
      "outputs": []
    },
    {
      "cell_type": "code",
      "source": [
        "from matplotlib.colors import ListedColormap, to_hex\n",
        "def bulid_cmap(x, y):\n",
        "    r,g,b = x\n",
        "    r_, g_, b_ = y\n",
        "    N = 256\n",
        "    A = np.ones((N, 4))\n",
        "    A[:, 0] = np.linspace(r, 1, N)\n",
        "    A[:, 1] = np.linspace(g, 1, N)\n",
        "    A[:, 2] = np.linspace(b, 1, N)\n",
        "    cmp = ListedColormap(A)\n",
        "\n",
        "    B = np.ones((N, 4))\n",
        "    B[:, 0] = np.linspace(r_, 1, N)\n",
        "    B[:, 1] = np.linspace(g_, 1, N)\n",
        "    B[:, 2] = np.linspace(b_, 1, N)\n",
        "    cmp_ = ListedColormap(B)\n",
        "\n",
        "    newcolors = np.vstack((cmp(np.linspace(0, 1, 128)),\n",
        "                            cmp_(np.linspace(1, 0, 128))))\n",
        "    return ListedColormap(newcolors)\n",
        "\n",
        "blue, red = (44,123,182), (215,25,28)\n",
        "blue = [x/256 for x in blue]\n",
        "red = [x/256 for x in red]\n",
        "diverging = bulid_cmap(blue, red)\n",
        "diverging_r = bulid_cmap(red, blue)\n",
        "\n",
        "\n",
        "path = (\n",
        "    df[['home_10_x', 'home_10_y', 'period_id']]\n",
        "    .assign(\n",
        "        home_10_x=lambda x: np.where(x['period_id'] == 2, -x['home_10_x'], x['home_10_x']),\n",
        "        home_10_y=lambda x: np.where(x['period_id'] == 2, -x['home_10_y'], x['home_10_y']),\n",
        "    )\n",
        "    [['home_10_x', 'home_10_y']]\n",
        "    .values * adjust\n",
        ")\n",
        "\n",
        "runs = []\n",
        "running = False\n",
        "speed_threshold = 6\n",
        "sustained_frame_threshold = 10\n",
        "for i, coord in enumerate(path):\n",
        "    displacement = path[i-1]\n",
        "    speed = np.linalg.norm(coord - displacement) * frame_rate\n",
        "    if speed > speed_threshold:\n",
        "        if not running:\n",
        "            running = True\n",
        "            frame_start = i\n",
        "    else:\n",
        "        if running:\n",
        "            running = False\n",
        "            frame_end = i\n",
        "            if frame_end > frame_start + sustained_frame_threshold:\n",
        "                runs.append((frame_start, frame_end))\n",
        "\n",
        "pitch = mpl.Pitch(**metrica_attrs)\n",
        "fig, ax = pitch.draw(figsize=(9,6))\n",
        "\n",
        "for (start, stop) in runs:\n",
        "    unadjust = np.array(path[start:stop]) * (1 / adjust)\n",
        "    pitch.plot(*unadjust.T, lw=1, c=red, ax=ax, zorder=1)\n",
        "    pitch.scatter(*unadjust[0].T, s=10, color=red, ax=ax)\n",
        "    pitch.scatter(*unadjust[-1].T, s=15,\n",
        "                  facecolor=\"white\", edgecolor=red, zorder=2, ax=ax)\n",
        "\n",
        "# EXERCISE #1: Flip the coordinates for the second half"
      ],
      "metadata": {
        "id": "eI6fPkWHWxel"
      },
      "execution_count": null,
      "outputs": []
    },
    {
      "cell_type": "code",
      "source": [
        "n = 87470\n",
        "frame = df.iloc[n:n+1]\n",
        "frame_ = df.iloc[n+1:n+2]\n",
        "\n",
        "bp = frame[['ball_x', 'ball_y']].values[0]\n",
        "\n",
        "hj = np.unique([x.split(\"_\")[1] for x in df.columns if \"home\" in x])\n",
        "aj = np.unique([x.split(\"_\")[1] for x in df.columns if \"away\" in x])\n",
        "\n",
        "def team_vectors(f, f_, team, jerseys):\n",
        "    p, v = [], []\n",
        "    for j in jerseys:\n",
        "        pp = f[['{}_{}_x'.format(team, j), '{}_{}_y'.format(team, j)]].values[0]\n",
        "        pp_ = f_[['{}_{}_x'.format(team, j), '{}_{}_y'.format(team, j)]].values[0]\n",
        "        if ~np.isnan(pp[0]):\n",
        "            p.append(pp)\n",
        "            v.append(pp_ - pp)\n",
        "    return np.array(p), np.array(v) * frame_rate\n",
        "\n",
        "hp, hv = team_vectors(frame, frame_, \"home\", hj)\n",
        "ap, av = team_vectors(frame, frame_, \"away\", aj)\n",
        "\n",
        "pitch = mpl.Pitch(**metrica_attrs)\n",
        "fig, ax = pitch.draw(figsize=(12, 8))\n",
        "\n",
        "pitch.arrows(*hp.T, *hp.T + hv.T, ax=ax, color='k', zorder=1,\n",
        "             headaxislength=3, headlength=3, headwidth=4, width=1)\n",
        "\n",
        "pitch.arrows(*ap.T, *ap.T + av.T, ax=ax, color='k', zorder=1,\n",
        "             headaxislength=3, headlength=3, headwidth=4, width=1)\n",
        "\n",
        "pitch.scatter(*hp.T, ax=ax, facecolor=red, s=100, edgecolor='k')\n",
        "pitch.scatter(*ap.T, ax=ax, facecolor=blue, s=100, edgecolor='k')\n",
        "pitch.scatter(*bp.T, ax=ax, facecolor='yellow', s=40, edgecolor='k')\n",
        "\n",
        "# EXERCISE #2: Plot the frame for the second goal of the game (Game 1)"
      ],
      "metadata": {
        "id": "LjBsfYQGcKFT"
      },
      "execution_count": null,
      "outputs": []
    },
    {
      "cell_type": "code",
      "source": [
        "import matplotlib.pyplot as plt\n",
        "\n",
        "xx, yy = np.meshgrid(np.linspace(0, length, length*2),\n",
        "                     np.linspace(0, width, width*2))\n",
        "\n",
        "indexes = np.stack([xx, yy], 2)\n",
        "\n",
        "def tti_shaw(origin, destination, velocity,\n",
        "               reaction_time=0.7, max_velocity=5.0):\n",
        "\n",
        "    r_reaction = origin + velocity * reaction_time\n",
        "    d = destination - r_reaction\n",
        "    return reaction_time + np.linalg.norm(d, axis=-1) / max_velocity\n",
        "\n",
        "def tti(origin, destination, velocity, reaction_time=0.7, max_velocity=5.0):\n",
        "    u = (origin + velocity) - origin\n",
        "    v = destination - origin\n",
        "    u_mag = np.sqrt(np.sum(u**2, axis=-1))\n",
        "    v_mag = np.sqrt(np.sum(v**2, axis=-1))\n",
        "    dot_product = np.sum(u * v, axis=-1)\n",
        "    angle = np.arccos(dot_product / (u_mag * v_mag))\n",
        "    r_reaction = origin + velocity * reaction_time\n",
        "    d = destination - r_reaction\n",
        "    t = (u_mag * angle/np.pi +\n",
        "         reaction_time +\n",
        "         np.linalg.norm(d, axis=-1) / max_velocity)\n",
        "\n",
        "    return t\n",
        "\n",
        "def tti_surface(players, velocities, indexes, tti=tti):\n",
        "    pvalues = np.empty((players.shape[0], indexes.shape[0], indexes.shape[1]))\n",
        "    for k in range(players.shape[0]):\n",
        "        pvalues[k, :, :] = tti(players[k], indexes, velocities[k])\n",
        "    values = np.amin(pvalues, axis=0)\n",
        "\n",
        "    return values\n",
        "\n",
        "Z_home = tti_surface(hp * adjust, hv * adjust, indexes)\n",
        "Z_away = tti_surface(ap * adjust, av * adjust, indexes)\n",
        "\n",
        "Z = Z_home - Z_away\n",
        "\n",
        "pitch = mpl.Pitch(**metrica_attrs)\n",
        "fig, ax = pitch.draw(figsize=(12, 8))\n",
        "min, max = -10, 10\n",
        "levels = np.linspace(min, max, 11)\n",
        "s = ax.contourf(Z, extent=(0,1,0,1), levels=levels,\n",
        "            cmap=diverging_r, vmin=min, vmax=max, alpha=0.8,\n",
        "            antialiased=True, extend=\"both\")\n",
        "\n",
        "pitch.arrows(*hp.T, *hp.T + hv.T, ax=ax, color='k', zorder=1,\n",
        "             headaxislength=3, headlength=3, headwidth=4, width=1)\n",
        "\n",
        "pitch.arrows(*ap.T, *ap.T + av.T, ax=ax, color='k', zorder=1,\n",
        "             headaxislength=3, headlength=3, headwidth=4, width=1)\n",
        "\n",
        "pitch.scatter(*hp.T, ax=ax, facecolor=red, s=100, edgecolor='k')\n",
        "pitch.scatter(*ap.T, ax=ax, facecolor=blue, s=100, edgecolor='k')\n",
        "pitch.scatter(*bp.T, ax=ax, facecolor='yellow', s=40, edgecolor='k')\n",
        "\n",
        "cbar = plt.colorbar(s, shrink=0.6, ticks=levels)\n",
        "l = cbar.ax.set_yticklabels([\"{:.1f} sec.\".format(t) for t in levels])\n",
        "\n",
        "# EXERCISE #3: Find a way to toggle the uncertainty in the pitch control map"
      ],
      "metadata": {
        "id": "OxtE28O8egCy"
      },
      "execution_count": null,
      "outputs": []
    }
  ]
}