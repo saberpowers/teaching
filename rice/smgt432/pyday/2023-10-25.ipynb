{
  "nbformat": 4,
  "nbformat_minor": 0,
  "metadata": {
    "colab": {
      "provenance": []
    },
    "kernelspec": {
      "name": "python3",
      "display_name": "Python 3"
    },
    "language_info": {
      "name": "python"
    }
  },
  "cells": [
    {
      "cell_type": "markdown",
      "source": [
        "Today we're taclking the first half of the Tracking Data section from Devin Pleuler's [Soccer Analytics Handbook](https://github.com/devinpleuler/analytics-handbook/blob/master/soccer_analytics_handbook.ipynb)."
      ],
      "metadata": {
        "id": "2m_Ess1SBNUV"
      }
    },
    {
      "cell_type": "code",
      "execution_count": null,
      "metadata": {
        "id": "Xa9H4_-W5cir"
      },
      "outputs": [],
      "source": [
        "!pip install mplsoccer\n",
        "!pip install kloppy"
      ]
    },
    {
      "cell_type": "code",
      "source": [
        "import numpy as np\n",
        "import matplotlib.pyplot as plt\n",
        "import mplsoccer as mpl\n",
        "from kloppy import metrica"
      ],
      "metadata": {
        "id": "QpfTOwL96nt0"
      },
      "execution_count": null,
      "outputs": []
    },
    {
      "cell_type": "code",
      "source": [
        "from kloppy import metrica\n",
        "\n",
        "data = metrica.load_open_data(\n",
        "    match_id=1,\n",
        "    coordinates=\"metrica\"\n",
        ")"
      ],
      "metadata": {
        "id": "24TFnJYc5fOm"
      },
      "execution_count": null,
      "outputs": []
    },
    {
      "cell_type": "code",
      "source": [
        "df = data.to_df()"
      ],
      "metadata": {
        "id": "QMRSiRWy5xAX"
      },
      "execution_count": null,
      "outputs": []
    },
    {
      "cell_type": "code",
      "source": [
        "df.head(5)"
      ],
      "metadata": {
        "id": "WPcXowF-8ddP"
      },
      "execution_count": null,
      "outputs": []
    },
    {
      "cell_type": "code",
      "source": [
        "blue, red = (44,123,182), (215,25,28)\n",
        "blue = [x/256 for x in blue]\n",
        "red = [x/256 for x in red]"
      ],
      "metadata": {
        "id": "i2OW0j7d3in0"
      },
      "execution_count": null,
      "outputs": []
    },
    {
      "cell_type": "code",
      "source": [
        "frame_rate = 25\n",
        "length, width = 105, 68\n",
        "adjust = np.array([length, width])"
      ],
      "metadata": {
        "id": "mwhLAyMF5-jA"
      },
      "execution_count": null,
      "outputs": []
    },
    {
      "cell_type": "code",
      "source": [
        "hj = list(set([x.split(\"_\")[1] for x in df.columns if \"home\" in x]))\n",
        "\n",
        "metrica_attrs = {\n",
        "    \"pitch_type\": \"metricasports\",\n",
        "    \"pitch_length\": 105,\n",
        "    \"pitch_width\": 68,\n",
        "    \"line_color\": \"black\",\n",
        "    \"linewidth\": 1,\n",
        "    \"goal_type\": \"circle\"\n",
        " }\n",
        "\n",
        "start, stop = 2143, 2310 # Frame Range\n",
        "pitch = mpl.Pitch(**metrica_attrs)\n",
        "fig, ax = pitch.draw(figsize=(9,6))\n",
        "\n",
        "for j in hj:\n",
        "    path = df[['home_{}_x'.format(j), 'home_{}_y'.format(j)]].values[start:stop]\n",
        "    pitch.plot(*path.T, lw=2, alpha=0.8, ax=ax)\n",
        "\n",
        "path = df[['ball_x', 'ball_y']].values[start:stop]\n",
        "pitch.plot(*path.T, lw=2, color='black', ax=ax)\n",
        "\n",
        "# EXERCISE #1: Plot the player path for the home goal for the full game\n",
        "# EXERCISE #2: Add the path of the ball to this visualization\n",
        "# EXERCISE #3: Plot player paths for frames leading up to first goal of match"
      ],
      "metadata": {
        "id": "Ac9g7pYj6MsR"
      },
      "execution_count": null,
      "outputs": []
    }
  ]
}