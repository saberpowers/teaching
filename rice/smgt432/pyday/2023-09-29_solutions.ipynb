{
  "nbformat": 4,
  "nbformat_minor": 0,
  "metadata": {
    "colab": {
      "provenance": []
    },
    "kernelspec": {
      "name": "python3",
      "display_name": "Python 3"
    },
    "language_info": {
      "name": "python"
    }
  },
  "cells": [
    {
      "cell_type": "code",
      "execution_count": 26,
      "metadata": {
        "id": "NSMp1vxXlcfT"
      },
      "outputs": [],
      "source": [
        "\n",
        "import numpy as np\n",
        "import pandas as pd\n",
        "\n",
        "pms = pd.read_csv('player_match_summary_epl_2015-2016.csv')\n",
        "\n",
        "'''\n",
        "## EXERCISE 1 ##\n",
        "Fill in the calculation below for fantasy points from goals.\n",
        "'''\n",
        "\n",
        "pms_fantasy = pms.assign(\n",
        "    pts_minutes=lambda x: np.where(x['minutes'] > 60, 2, 1),\n",
        "    pts_goals=lambda x: np.select(\n",
        "        condlist=[\n",
        "            x['position'].isin(['Goalkeeper', 'Defender']),\n",
        "            x['position'] == 'Midfielder',\n",
        "            x['position'] == 'Forward',\n",
        "        ],\n",
        "        choicelist=[6 * x['goals'], 5 * x['goals'], 4 * x['goals']],\n",
        "        default=0\n",
        "    ),\n",
        "    pts_assists=lambda x: 3 * x['assists'],\n",
        "    pts_clean_sheets=lambda x: np.select(\n",
        "        condlist=[\n",
        "            x['position'].isin(['Goalkeeper', 'Defender']),\n",
        "            x['position'] == 'Midfielder',\n",
        "        ],\n",
        "        choicelist=[4 * x['clean_sheets'], x['clean_sheets']],\n",
        "        default=0   # Forward get no points for clean sheets\n",
        "    ),\n",
        "    pts_saves=lambda x: np.floor(x['saves'] / 3),\n",
        "    pts_penalty_saves=lambda x: 5 * x['penalty_saves'],\n",
        "    pts_penalty_misses=lambda x: -2 * x['penalty_misses'],\n",
        "    pts_goals_conceded=lambda x: np.where(\n",
        "        x['position'].isin(['Goalkeeper', 'Defender']),\n",
        "        -np.floor(x['goals_conceded'] / 2),\n",
        "        0\n",
        "    ),\n",
        "    pts_yellow_cards=lambda x: -x['yellow_cards'],\n",
        "    pts_red_cards=lambda x: -3 * x['red_cards'],\n",
        "    pts_own_goals=lambda x: -2 * x['own_goals'],\n",
        "    pts=lambda x: x['pts_minutes'] + x['pts_goals'] + x['pts_assists'] + x['pts_clean_sheets'] +\n",
        "        x['pts_saves'] + x['pts_penalty_saves'] + x['pts_penalty_misses'] +\n",
        "        x['pts_goals_conceded'] + x['pts_yellow_cards'] + x['pts_red_cards'] + x['pts_own_goals']\n",
        ")\n"
      ]
    },
    {
      "cell_type": "code",
      "source": [
        "import matplotlib.pyplot as plt\n",
        "\n",
        "'''\n",
        "## EXERCISE 2 ##\n",
        "Plot first-half fantasy points vs. second-half fantasy points, and\n",
        "calculate the split-half correlation in fantasy points within each position.\n",
        "'''\n",
        "\n",
        "pts_half_1 = (\n",
        "    pms_fantasy\n",
        "        .loc[lambda x: x['match_date'] < '2016-01-01']\n",
        "        .groupby(['player_id', 'player_name', 'position'])\n",
        "        .sum(numeric_only=True)\n",
        ")\n",
        "\n",
        "pts_half_2 = (\n",
        "    pms_fantasy\n",
        "        .loc[lambda x: x['match_date'] >= '2016-01-01']\n",
        "        .groupby(['player_id', 'player_name', 'position'])\n",
        "        .sum(numeric_only=True)\n",
        ")\n",
        "\n",
        "pts = (\n",
        "    pd.merge(\n",
        "        pts_half_1,\n",
        "        pts_half_2,\n",
        "        on=['player_id', 'player_name', 'position'],\n",
        "        how='outer',\n",
        "        suffixes=['_1', '_2']\n",
        "    )\n",
        "        .fillna(0)  # any count missing is zero\n",
        ")\n",
        "\n",
        "plt.scatter(x=pts['pts_1'], y=pts['pts_2'])\n",
        "\n",
        "pts.groupby('position').apply(lambda x: x['pts_1'].corr(x['pts_2']))"
      ],
      "metadata": {
        "id": "fXANVGxmqXNn"
      },
      "execution_count": null,
      "outputs": []
    },
    {
      "cell_type": "code",
      "source": [
        "'''\n",
        "## EXERCISE 3 ##\n",
        "Calculate the split-half correlation by postion for each subcomponent of fantasy points\n",
        "(e.g. pts_minutes, pts_goals). What are the strongest and weakest correlations?\n",
        "'''\n",
        "\n",
        "pts_columns = [\n",
        "    'pts_minutes', 'pts_goals', 'pts_assists', 'pts_clean_sheets', 'pts_saves', 'pts_penalty_saves',\n",
        "    'pts_penalty_misses', 'pts_goals_conceded', 'pts_yellow_cards', 'pts_red_cards', 'pts_own_goals'\n",
        "]\n",
        "\n",
        "for col in pts_columns:\n",
        "    print(col)\n",
        "    print(pts.groupby('position').apply(lambda x: x[f'{col}_1'].corr(x[f'{col}_2'])))\n"
      ],
      "metadata": {
        "id": "CynQNvScmSYy"
      },
      "execution_count": null,
      "outputs": []
    },
    {
      "cell_type": "code",
      "source": [
        "'''\n",
        "## EXERCISE 4 ##\n",
        "What's a better predictor of second-half goals: first-half goals or first-half xG?\n",
        "(Or is it some combination of the two?)\n",
        "'''"
      ],
      "metadata": {
        "id": "yJX-U4G2BC8O"
      },
      "execution_count": null,
      "outputs": []
    },
    {
      "cell_type": "code",
      "source": [
        "'''\n",
        "## EXERCISE 5 ##\n",
        "Using everything you've learned from the previous 4 exercises, can you use linear regression\n",
        "to build a simple projection for second-half fantasy points based on first-half performance?\n",
        "'''"
      ],
      "metadata": {
        "id": "fPQj0TCQBRQR"
      },
      "execution_count": null,
      "outputs": []
    },
    {
      "cell_type": "code",
      "source": [
        "'''\n",
        "## EXERCISE 6 ##\n",
        "Can you apply your projection model to the 2023-2024 data to date?\n",
        "'''"
      ],
      "metadata": {
        "id": "5OQIS4X_Bb1A"
      },
      "execution_count": null,
      "outputs": []
    }
  ]
}